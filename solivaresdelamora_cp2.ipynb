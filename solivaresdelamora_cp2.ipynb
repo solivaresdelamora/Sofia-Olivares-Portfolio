{
 "cells": [
  {
   "cell_type": "code",
   "execution_count": 100,
   "metadata": {},
   "outputs": [],
   "source": [
    "import pandas as pd"
   ]
  },
  {
   "cell_type": "markdown",
   "metadata": {},
   "source": [
    "# Load data"
   ]
  },
  {
   "cell_type": "code",
   "execution_count": 101,
   "metadata": {},
   "outputs": [],
   "source": [
    "data_df = pd.read_csv(\"diabetic_data.csv\")"
   ]
  },
  {
   "cell_type": "markdown",
   "metadata": {},
   "source": [
    "# Final dataset\n",
    "\n",
    "Create final dataset for analysis\n",
    "\n",
    "1. Replace missing medical specialty values with \"missing\"\n",
    "2. Select only the first encounter for each patient\n",
    "3. Remove patient encounters resulting in dischange to hospice or expiration"
   ]
  },
  {
   "cell_type": "code",
   "execution_count": 102,
   "metadata": {},
   "outputs": [],
   "source": [
    "data_df[\"medical_specialty\"] = data_df[\"medical_specialty\"].replace([\"?\"],\"missing\")\n",
    "#print(data_df[\"medical_specialty\"].head(5))"
   ]
  },
  {
   "cell_type": "code",
   "execution_count": 103,
   "metadata": {},
   "outputs": [],
   "source": [
    "filterpt_df = data_df.groupby(\"patient_nbr\").first()\n",
    "#print(filterpt_df)"
   ]
  },
  {
   "cell_type": "markdown",
   "metadata": {},
   "source": [
    "Hospice and expiration discharge codes:\n",
    "\n",
    "11, 13-14, 19-21"
   ]
  },
  {
   "cell_type": "code",
   "execution_count": 104,
   "metadata": {},
   "outputs": [],
   "source": [
    "final_df = filterpt_df[filterpt_df.discharge_disposition_id !=11] \n",
    "final_df = final_df[final_df.discharge_disposition_id  != 13]\n",
    "final_df = final_df[final_df.discharge_disposition_id  != 14]\n",
    "final_df = final_df[final_df.discharge_disposition_id  != 19]\n",
    "final_df = final_df[final_df.discharge_disposition_id  != 20]\n",
    "final_df = final_df[final_df.discharge_disposition_id  != 21]\n",
    "\n",
    "\n",
    "total_encounters =len(final_df['encounter_id'])\n",
    "#print(total_encounters)\n",
    "#Differences in total may have been due to different selection of categorical codes for filtering "
   ]
  },
  {
   "cell_type": "markdown",
   "metadata": {},
   "source": [
    "# A1C"
   ]
  },
  {
   "cell_type": "markdown",
   "metadata": {},
   "source": [
    "Create dataframe:\n",
    "1. Find the total number of encounters meeting the criteria for each category\n",
    "2. Find the total number of encounters for each category for readmissions (<30)\n",
    "3. Calculate the percent total of each category\n",
    "4. Calculate the percent of encounters for each category that were readmissions "
   ]
  },
  {
   "cell_type": "markdown",
   "metadata": {},
   "source": [
    "Codes for each criteria:\n",
    "\n",
    "\n",
    "No test performed = None\n",
    "\n",
    "Result was high and the medication was changed = >8/Ch\n",
    "\n",
    "Result was high and no medication change = >8/No\n",
    "\n",
    "Normal result = Norm & >7"
   ]
  },
  {
   "cell_type": "code",
   "execution_count": 105,
   "metadata": {},
   "outputs": [],
   "source": [
    "def total_count(x):\n",
    "    \"\"\"\" Counts number of encounters for each category\"\"\"\n",
    "    if x[\"A1Cresult\"] == \"None\":\n",
    "        if x[\"readmitted\"] == \"<30\":\n",
    "            return \"re\"\n",
    "        return True\n",
    "    else:\n",
    "        return False\n",
    "     \n",
    "no_test = final_df.apply(total_count, axis=1)\n",
    "no_test_total = len(no_test[no_test == True].index)+len(no_test[no_test == \"re\"].index)\n",
    "no_test_re = len(no_test[no_test == \"re\"].index)\n",
    "# print(no_test_total)\n",
    "# print(no_test_re)"
   ]
  },
  {
   "cell_type": "code",
   "execution_count": 106,
   "metadata": {},
   "outputs": [],
   "source": [
    "def total_count(x):\n",
    "    \"\"\"\" Counts number of encounters for each category\"\"\"\n",
    "    if x[\"A1Cresult\"] == \">8\" and x[\"change\"] == \"Ch\":\n",
    "        if x[\"readmitted\"] == \"<30\":\n",
    "            return \"re\"\n",
    "        return True\n",
    "    else:\n",
    "        return False\n",
    "\n",
    "\n",
    "high_ch = final_df.apply(total_count, axis=1)\n",
    "high_ch_total= len(high_ch[high_ch == True].index)+ len(high_ch[high_ch == \"re\"].index)\n",
    "high_ch_re = len(high_ch[high_ch == \"re\"].index)\n",
    "# print(high_ch_total)\n",
    "# print(high_ch_re)"
   ]
  },
  {
   "cell_type": "code",
   "execution_count": 107,
   "metadata": {},
   "outputs": [],
   "source": [
    "def total_count(x):\n",
    "    \"\"\"\" Counts number of encounters for each category\"\"\"\n",
    "    if x[\"A1Cresult\"] == \">8\" and x[\"change\"] == \"No\":\n",
    "        if x[\"readmitted\"] == \"<30\":\n",
    "            return \"re\"\n",
    "        return True\n",
    "    else:\n",
    "        return False\n",
    "\n",
    "\n",
    "high_no = final_df.apply(total_count, axis=1)\n",
    "high_no_total = len(high_no[high_no == True].index)+len(high_no[high_no == \"re\"].index)\n",
    "high_no_re = len(high_no[high_no == \"re\"].index)\n",
    "# print(high_no_total)\n",
    "# print(high_no_re)"
   ]
  },
  {
   "cell_type": "code",
   "execution_count": 108,
   "metadata": {},
   "outputs": [],
   "source": [
    "def total_count(x):\n",
    "    \"\"\"\" Counts number of encounters for each category\"\"\"\n",
    "    if x[\"A1Cresult\"] == \">7\" or x[\"A1Cresult\"] == \"Norm\":\n",
    "        if x[\"readmitted\"] == \"<30\":\n",
    "            return \"re\"\n",
    "        return True\n",
    "    else:\n",
    "        return False\n",
    "      \n",
    "\n",
    "normal = final_df.apply(total_count, axis=1)\n",
    "normal_total = len(normal[normal == True].index)+len(normal[normal == \"re\"].index)\n",
    "normal_re = len(normal[normal == \"re\"].index)\n",
    "# print(normal_total)\n",
    "# print(normal_re)\n"
   ]
  },
  {
   "cell_type": "code",
   "execution_count": 109,
   "metadata": {},
   "outputs": [],
   "source": [
    "#Create a list from all the values to add to the final dataframe\n",
    "A1C_encounters = [no_test_total, high_ch_total, high_no_total, normal_total]\n",
    "A1C_re = [no_test_re, high_ch_re, high_no_re, normal_re]"
   ]
  },
  {
   "cell_type": "markdown",
   "metadata": {},
   "source": [
    "### Percent of population"
   ]
  },
  {
   "cell_type": "code",
   "execution_count": 110,
   "metadata": {},
   "outputs": [],
   "source": [
    "def population_percent(portion):\n",
    "    \"\"\"\"Divides encounters per category by total number of encounters\"\"\"\n",
    "    result = round((portion/total_encounters)*100,1)\n",
    "    return f'{result}%'\n",
    "\n",
    "no_test_totalper = population_percent(no_test_total)\n",
    "\n",
    "high_ch_totalper = population_percent(high_ch_total)\n",
    "\n",
    "high_no_totalper = population_percent(high_no_total)\n",
    "\n",
    "normal_totalper = population_percent(normal_total)\n",
    "\n",
    "\n",
    "#Create list to add results to final dataframe\n",
    "total_percent = [no_test_totalper,high_ch_totalper,high_no_totalper,normal_totalper]\n",
    "#print(total_percent)"
   ]
  },
  {
   "cell_type": "markdown",
   "metadata": {},
   "source": [
    "### Readmitted population percent"
   ]
  },
  {
   "cell_type": "code",
   "execution_count": 111,
   "metadata": {},
   "outputs": [],
   "source": [
    "def population_percent(portion,total):\n",
    "    \"\"\"\"Divides readmission encounters per category by total encounters per category\"\"\"\n",
    "    result = round((portion/total)*100,1)\n",
    "    return f'{result}%'\n",
    "    \n",
    "    \n",
    "no_test_reper = population_percent(no_test_re,no_test_total)\n",
    "\n",
    "high_ch_reper = population_percent(high_ch_re,high_ch_total)\n",
    "\n",
    "high_no_reper = population_percent(high_no_re, high_no_total)\n",
    "\n",
    "normal_reper = population_percent(normal_re, normal_total)\n",
    "\n",
    "#Create list to add results to final dataframe\n",
    "readmitted_percent = [no_test_reper,high_ch_reper,high_no_reper,normal_reper]\n",
    "#print(readmitted_percent)"
   ]
  },
  {
   "cell_type": "markdown",
   "metadata": {},
   "source": [
    "### Put results together to create dataframe\n",
    "\n",
    "1. Create 2 dictionaries, one for total encounters and another for readmissions\n",
    "2. Create list of rows with category names\n",
    "3. Create 2 dataframes with respective results and column names\n",
    "4. Merge dataframes on columns and indicate \"Readmitted\" columns\n",
    "5. Format dataframe (add title, align)"
   ]
  },
  {
   "cell_type": "code",
   "execution_count": 112,
   "metadata": {},
   "outputs": [
    {
     "data": {
      "text/html": [
       "<style  type=\"text/css\" >\n",
       "    #T_f34a18f8_285a_11eb_8774_463500000031row0_col0 {\n",
       "            text-align:  center;\n",
       "        }    #T_f34a18f8_285a_11eb_8774_463500000031row0_col1 {\n",
       "            text-align:  center;\n",
       "        }    #T_f34a18f8_285a_11eb_8774_463500000031row0_col2 {\n",
       "            text-align:  center;\n",
       "        }    #T_f34a18f8_285a_11eb_8774_463500000031row0_col3 {\n",
       "            text-align:  center;\n",
       "        }    #T_f34a18f8_285a_11eb_8774_463500000031row1_col0 {\n",
       "            text-align:  center;\n",
       "        }    #T_f34a18f8_285a_11eb_8774_463500000031row1_col1 {\n",
       "            text-align:  center;\n",
       "        }    #T_f34a18f8_285a_11eb_8774_463500000031row1_col2 {\n",
       "            text-align:  center;\n",
       "        }    #T_f34a18f8_285a_11eb_8774_463500000031row1_col3 {\n",
       "            text-align:  center;\n",
       "        }    #T_f34a18f8_285a_11eb_8774_463500000031row2_col0 {\n",
       "            text-align:  center;\n",
       "        }    #T_f34a18f8_285a_11eb_8774_463500000031row2_col1 {\n",
       "            text-align:  center;\n",
       "        }    #T_f34a18f8_285a_11eb_8774_463500000031row2_col2 {\n",
       "            text-align:  center;\n",
       "        }    #T_f34a18f8_285a_11eb_8774_463500000031row2_col3 {\n",
       "            text-align:  center;\n",
       "        }    #T_f34a18f8_285a_11eb_8774_463500000031row3_col0 {\n",
       "            text-align:  center;\n",
       "        }    #T_f34a18f8_285a_11eb_8774_463500000031row3_col1 {\n",
       "            text-align:  center;\n",
       "        }    #T_f34a18f8_285a_11eb_8774_463500000031row3_col2 {\n",
       "            text-align:  center;\n",
       "        }    #T_f34a18f8_285a_11eb_8774_463500000031row3_col3 {\n",
       "            text-align:  center;\n",
       "        }</style><table id=\"T_f34a18f8_285a_11eb_8774_463500000031\" ><thead>    <tr>        <th class=\"blank level0\" ></th>        <th class=\"col_heading level0 col0\" colspan=2></th>        <th class=\"col_heading level0 col2\" colspan=2>Readmitted</th>    </tr>    <tr>        <th class=\"blank level1\" ></th>        <th class=\"col_heading level1 col0\" >Number of encounters</th>        <th class=\"col_heading level1 col1\" >% of the population</th>        <th class=\"col_heading level1 col2\" >Number of encounters</th>        <th class=\"col_heading level1 col3\" >% in group</th>    </tr>    <tr>        <th class=\"index_name level0\" >HbA1c</th>        <th class=\"blank\" ></th>        <th class=\"blank\" ></th>        <th class=\"blank\" ></th>        <th class=\"blank\" ></th>    </tr></thead><tbody>\n",
       "                <tr>\n",
       "                        <th id=\"T_f34a18f8_285a_11eb_8774_463500000031level0_row0\" class=\"row_heading level0 row0\" >No test was performed</th>\n",
       "                        <td id=\"T_f34a18f8_285a_11eb_8774_463500000031row0_col0\" class=\"data row0 col0\" >57128</td>\n",
       "                        <td id=\"T_f34a18f8_285a_11eb_8774_463500000031row0_col1\" class=\"data row0 col1\" >81.6%</td>\n",
       "                        <td id=\"T_f34a18f8_285a_11eb_8774_463500000031row0_col2\" class=\"data row0 col2\" >5199</td>\n",
       "                        <td id=\"T_f34a18f8_285a_11eb_8774_463500000031row0_col3\" class=\"data row0 col3\" >9.1%</td>\n",
       "            </tr>\n",
       "            <tr>\n",
       "                        <th id=\"T_f34a18f8_285a_11eb_8774_463500000031level0_row1\" class=\"row_heading level0 row1\" >Result was high and the diabetic medication was changed</th>\n",
       "                        <td id=\"T_f34a18f8_285a_11eb_8774_463500000031row1_col0\" class=\"data row1 col0\" >4058</td>\n",
       "                        <td id=\"T_f34a18f8_285a_11eb_8774_463500000031row1_col1\" class=\"data row1 col1\" >5.8%</td>\n",
       "                        <td id=\"T_f34a18f8_285a_11eb_8774_463500000031row1_col2\" class=\"data row1 col2\" >348</td>\n",
       "                        <td id=\"T_f34a18f8_285a_11eb_8774_463500000031row1_col3\" class=\"data row1 col3\" >8.6%</td>\n",
       "            </tr>\n",
       "            <tr>\n",
       "                        <th id=\"T_f34a18f8_285a_11eb_8774_463500000031level0_row2\" class=\"row_heading level0 row2\" >Result was high but the diabetic medication was not changed</th>\n",
       "                        <td id=\"T_f34a18f8_285a_11eb_8774_463500000031row2_col0\" class=\"data row2 col0\" >2181</td>\n",
       "                        <td id=\"T_f34a18f8_285a_11eb_8774_463500000031row2_col1\" class=\"data row2 col1\" >3.1%</td>\n",
       "                        <td id=\"T_f34a18f8_285a_11eb_8774_463500000031row2_col2\" class=\"data row2 col2\" >161</td>\n",
       "                        <td id=\"T_f34a18f8_285a_11eb_8774_463500000031row2_col3\" class=\"data row2 col3\" >7.4%</td>\n",
       "            </tr>\n",
       "            <tr>\n",
       "                        <th id=\"T_f34a18f8_285a_11eb_8774_463500000031level0_row3\" class=\"row_heading level0 row3\" >Normal result of the test</th>\n",
       "                        <td id=\"T_f34a18f8_285a_11eb_8774_463500000031row3_col0\" class=\"data row3 col0\" >6606</td>\n",
       "                        <td id=\"T_f34a18f8_285a_11eb_8774_463500000031row3_col1\" class=\"data row3 col1\" >9.4%</td>\n",
       "                        <td id=\"T_f34a18f8_285a_11eb_8774_463500000031row3_col2\" class=\"data row3 col2\" >569</td>\n",
       "                        <td id=\"T_f34a18f8_285a_11eb_8774_463500000031row3_col3\" class=\"data row3 col3\" >8.6%</td>\n",
       "            </tr>\n",
       "    </tbody></table>"
      ],
      "text/plain": [
       "<pandas.io.formats.style.Styler at 0x170c8b0>"
      ]
     },
     "execution_count": 112,
     "metadata": {},
     "output_type": "execute_result"
    }
   ],
   "source": [
    "HbA1c = {\"Number of encounters\" : A1C_encounters, \"% of the population\": total_percent}\n",
    "HbA1c_re = {\"Number of encounters\": A1C_re, \"% in group\" : readmitted_percent}\n",
    "\n",
    "rows= [\"No test was performed\", \"Result was high and the diabetic medication was changed\", \n",
    "       \"Result was high but the diabetic medication was not changed\", \"Normal result of the test\"]\n",
    "\n",
    "total = pd.DataFrame(HbA1c, columns = [\"Number of encounters\", \"% of the population\"], index = rows)\n",
    "re = pd.DataFrame(HbA1c_re,columns = [\"Number of encounters\", \"% in group\" ], index = rows)\n",
    "\n",
    "HbA1c_df = pd.concat([total,re], axis=1, keys = ['','Readmitted'])\n",
    "index = HbA1c_df.index\n",
    "index.name = \"HbA1c\"\n",
    "HbA1c_df .style.set_properties(**{'text-align': 'center'})"
   ]
  },
  {
   "cell_type": "markdown",
   "metadata": {},
   "source": [
    "Differences in results may have been due in part to the ambiguity of the label >7% which could technically either be >8% or =7%\n",
    "It may also be due to the sorting of the encounters. We were not provided dates for these encounters so it is difficult to know whether the first encounter was selected.\n",
    "It is also known that for certain visits (0.1%) encounters previous encounters were referenced for test results."
   ]
  },
  {
   "cell_type": "markdown",
   "metadata": {},
   "source": [
    "## Admission Source"
   ]
  },
  {
   "cell_type": "markdown",
   "metadata": {},
   "source": [
    "Create dataframe:\n",
    "1. Find the total number of encounters meeting the criteria for each category\n",
    "2. Find the total number of encounters for each category for readmissions (<30)\n",
    "3. Calculate the percent total of each category\n",
    "4. Calculate the percent of encounters for each category that were readmissions "
   ]
  },
  {
   "cell_type": "markdown",
   "metadata": {},
   "source": [
    "Category codes:\n",
    "\n",
    "Admitted from emergency room = 7\n",
    "\n",
    "Admitted because of physician/clinic referral = 1 & 2\n",
    "\n",
    "Otherwise = 3-6,8-26"
   ]
  },
  {
   "cell_type": "code",
   "execution_count": 113,
   "metadata": {},
   "outputs": [],
   "source": [
    "def total_count(x):\n",
    "    \"\"\"\" Counts number of encounters for each category\"\"\"\n",
    "    if x[\"admission_source_id\"] == 7:\n",
    "        if x[\"readmitted\"] == \"<30\":\n",
    "            return \"re\"\n",
    "        return True\n",
    "    else:\n",
    "        return False\n",
    "     \n",
    "ER = final_df.apply(total_count, axis=1)\n",
    "ER_total = len(ER[ER == True].index)+len(ER[ER == \"re\"].index)\n",
    "ER_re = len(ER[ER == \"re\"].index)\n",
    "\n",
    "# print(ER_total)\n",
    "# print(ER_re)"
   ]
  },
  {
   "cell_type": "code",
   "execution_count": 114,
   "metadata": {},
   "outputs": [],
   "source": [
    "def total_count(x):\n",
    "    \"\"\"\" Counts number of encounters for each category\"\"\"\n",
    "    if x[\"admission_source_id\"] == 1 or x[\"admission_source_id\"] == 2:\n",
    "        if x[\"readmitted\"] == \"<30\":\n",
    "            return \"re\"\n",
    "        return True\n",
    "    else:\n",
    "        return False\n",
    "     \n",
    "pc = final_df.apply(total_count, axis=1)\n",
    "pc_total = len(pc[pc == True].index)+len(pc[pc == \"re\"].index)\n",
    "pc_re = len(pc[pc == \"re\"].index)\n",
    "\n",
    "# print(pc_total)\n",
    "# print(pc_re)"
   ]
  },
  {
   "cell_type": "code",
   "execution_count": 115,
   "metadata": {},
   "outputs": [],
   "source": [
    "def total_count(x):\n",
    "    \"\"\"\" Counts number of encounters for each category\"\"\"\n",
    "    if x[\"admission_source_id\"] != 1 and x[\"admission_source_id\"] != 2 and x[\"admission_source_id\"] != 7:\n",
    "        if x[\"readmitted\"] == \"<30\":\n",
    "            return \"re\"\n",
    "        return True\n",
    "    else:\n",
    "        return False\n",
    "     \n",
    "other = final_df.apply(total_count, axis=1)\n",
    "other_total = len(other[other == True].index)+len(other[other == \"re\"].index)\n",
    "other_re = len(other[other == \"re\"].index)\n",
    "\n",
    "# print(other_total)\n",
    "# print(other_re)"
   ]
  },
  {
   "cell_type": "code",
   "execution_count": 116,
   "metadata": {},
   "outputs": [],
   "source": [
    "#Create a list from all the values to add to the final dataframe\n",
    "ad_source_total = [ER_total,pc_total, other_total]\n",
    "ad_source_re = [ER_re,pc_re, other_re]"
   ]
  },
  {
   "cell_type": "markdown",
   "metadata": {},
   "source": [
    "### Percent population"
   ]
  },
  {
   "cell_type": "code",
   "execution_count": 117,
   "metadata": {},
   "outputs": [],
   "source": [
    "def population_percent(portion):\n",
    "    \"\"\"\"Divides encounters per category by total number of encounters\"\"\"\n",
    "    result = round((portion/total_encounters)*100,1)\n",
    "    return f'{result}%'\n",
    "\n",
    "ER_totalper = population_percent(ER_total)\n",
    "\n",
    "pc_totalper = population_percent(pc_total)\n",
    "\n",
    "other_totalper = population_percent(other_total)\n",
    "\n",
    "#Create list to add results to final dataframe\n",
    "total_percent = [ER_totalper, pc_totalper,other_totalper]\n",
    "#print(total_percent)"
   ]
  },
  {
   "cell_type": "markdown",
   "metadata": {},
   "source": [
    "### Readmitted population percent"
   ]
  },
  {
   "cell_type": "code",
   "execution_count": 118,
   "metadata": {},
   "outputs": [],
   "source": [
    "def population_percent(portion,total):\n",
    "    \"\"\"\"Divides readmission encounters per category by total encounters per category\"\"\"\n",
    "    result = round((portion/total)*100,1)\n",
    "    return f'{result}%'\n",
    "\n",
    "ER_reper = population_percent(ER_re,ER_total)\n",
    "\n",
    "pc_reper = population_percent(pc_re,pc_total)\n",
    "\n",
    "other_reper = population_percent(other_re,other_total)\n",
    "\n",
    "#Create list to add results to final dataframe\n",
    "readmitted_percent = [ER_reper, pc_reper,other_reper]\n",
    "#print(readmitted_percent)"
   ]
  },
  {
   "cell_type": "markdown",
   "metadata": {},
   "source": [
    "### Put results together to create dataframe\n",
    "\n",
    "1. Create 2 dictionaries, one for total encounters and another for readmissions\n",
    "2. Create list of rows with category names\n",
    "3. Create 2 dataframes with respective results and column names\n",
    "4. Merge dataframes on columns and indicate \"Readmitted\" columns\n",
    "5. Format dataframe (add title, align)"
   ]
  },
  {
   "cell_type": "code",
   "execution_count": 119,
   "metadata": {},
   "outputs": [
    {
     "data": {
      "text/html": [
       "<style  type=\"text/css\" >\n",
       "    #T_f5be309a_285a_11eb_b9fd_463500000031row0_col0 {\n",
       "            text-align:  center;\n",
       "        }    #T_f5be309a_285a_11eb_b9fd_463500000031row0_col1 {\n",
       "            text-align:  center;\n",
       "        }    #T_f5be309a_285a_11eb_b9fd_463500000031row0_col2 {\n",
       "            text-align:  center;\n",
       "        }    #T_f5be309a_285a_11eb_b9fd_463500000031row0_col3 {\n",
       "            text-align:  center;\n",
       "        }    #T_f5be309a_285a_11eb_b9fd_463500000031row1_col0 {\n",
       "            text-align:  center;\n",
       "        }    #T_f5be309a_285a_11eb_b9fd_463500000031row1_col1 {\n",
       "            text-align:  center;\n",
       "        }    #T_f5be309a_285a_11eb_b9fd_463500000031row1_col2 {\n",
       "            text-align:  center;\n",
       "        }    #T_f5be309a_285a_11eb_b9fd_463500000031row1_col3 {\n",
       "            text-align:  center;\n",
       "        }    #T_f5be309a_285a_11eb_b9fd_463500000031row2_col0 {\n",
       "            text-align:  center;\n",
       "        }    #T_f5be309a_285a_11eb_b9fd_463500000031row2_col1 {\n",
       "            text-align:  center;\n",
       "        }    #T_f5be309a_285a_11eb_b9fd_463500000031row2_col2 {\n",
       "            text-align:  center;\n",
       "        }    #T_f5be309a_285a_11eb_b9fd_463500000031row2_col3 {\n",
       "            text-align:  center;\n",
       "        }</style><table id=\"T_f5be309a_285a_11eb_b9fd_463500000031\" ><thead>    <tr>        <th class=\"blank level0\" ></th>        <th class=\"col_heading level0 col0\" colspan=2></th>        <th class=\"col_heading level0 col2\" colspan=2>Readmitted</th>    </tr>    <tr>        <th class=\"blank level1\" ></th>        <th class=\"col_heading level1 col0\" >Number of encounters</th>        <th class=\"col_heading level1 col1\" >% of the population</th>        <th class=\"col_heading level1 col2\" >Number of encounters</th>        <th class=\"col_heading level1 col3\" >% in group</th>    </tr>    <tr>        <th class=\"index_name level0\" >Admission source</th>        <th class=\"blank\" ></th>        <th class=\"blank\" ></th>        <th class=\"blank\" ></th>        <th class=\"blank\" ></th>    </tr></thead><tbody>\n",
       "                <tr>\n",
       "                        <th id=\"T_f5be309a_285a_11eb_b9fd_463500000031level0_row0\" class=\"row_heading level0 row0\" >Admitted from emergency room</th>\n",
       "                        <td id=\"T_f5be309a_285a_11eb_b9fd_463500000031row0_col0\" class=\"data row0 col0\" >37260</td>\n",
       "                        <td id=\"T_f5be309a_285a_11eb_b9fd_463500000031row0_col1\" class=\"data row0 col1\" >53.2%</td>\n",
       "                        <td id=\"T_f5be309a_285a_11eb_b9fd_463500000031row0_col2\" class=\"data row0 col2\" >3446</td>\n",
       "                        <td id=\"T_f5be309a_285a_11eb_b9fd_463500000031row0_col3\" class=\"data row0 col3\" >9.2%</td>\n",
       "            </tr>\n",
       "            <tr>\n",
       "                        <th id=\"T_f5be309a_285a_11eb_b9fd_463500000031level0_row1\" class=\"row_heading level0 row1\" >Admitted because of physician/clinic referral</th>\n",
       "                        <td id=\"T_f5be309a_285a_11eb_b9fd_463500000031row1_col0\" class=\"data row1 col0\" >22654</td>\n",
       "                        <td id=\"T_f5be309a_285a_11eb_b9fd_463500000031row1_col1\" class=\"data row1 col1\" >32.4%</td>\n",
       "                        <td id=\"T_f5be309a_285a_11eb_b9fd_463500000031row1_col2\" class=\"data row1 col2\" >1952</td>\n",
       "                        <td id=\"T_f5be309a_285a_11eb_b9fd_463500000031row1_col3\" class=\"data row1 col3\" >8.6%</td>\n",
       "            </tr>\n",
       "            <tr>\n",
       "                        <th id=\"T_f5be309a_285a_11eb_b9fd_463500000031level0_row2\" class=\"row_heading level0 row2\" >Otherwise</th>\n",
       "                        <td id=\"T_f5be309a_285a_11eb_b9fd_463500000031row2_col0\" class=\"data row2 col0\" >10059</td>\n",
       "                        <td id=\"T_f5be309a_285a_11eb_b9fd_463500000031row2_col1\" class=\"data row2 col1\" >14.4%</td>\n",
       "                        <td id=\"T_f5be309a_285a_11eb_b9fd_463500000031row2_col2\" class=\"data row2 col2\" >879</td>\n",
       "                        <td id=\"T_f5be309a_285a_11eb_b9fd_463500000031row2_col3\" class=\"data row2 col3\" >8.7%</td>\n",
       "            </tr>\n",
       "    </tbody></table>"
      ],
      "text/plain": [
       "<pandas.io.formats.style.Styler at 0xe14ce80>"
      ]
     },
     "execution_count": 119,
     "metadata": {},
     "output_type": "execute_result"
    }
   ],
   "source": [
    "adsource = {\"Number of encounters\" : ad_source_total, \"% of the population\": total_percent}\n",
    "adsource_re = {\"Number of encounters\": ad_source_re, \"% in group\" : readmitted_percent}\n",
    "rows= [\"Admitted from emergency room\", \"Admitted because of physician/clinic referral\", \"Otherwise\"] \n",
    "total = pd.DataFrame(adsource, columns = [\"Number of encounters\", \"% of the population\"], index = rows)\n",
    "re = pd.DataFrame(adsource_re,columns = [\"Number of encounters\", \"% in group\" ], index = rows)\n",
    "\n",
    "adsource_df = pd.concat([total,re], axis=1, keys = ['','Readmitted'])\n",
    "index = adsource_df.index\n",
    "index.name = \"Admission source\"\n",
    "adsource_df.style.set_properties(**{'text-align': 'center'})"
   ]
  },
  {
   "cell_type": "markdown",
   "metadata": {},
   "source": [
    "DIfferences in results may have been due to the sorting of the encounters. We were not provided dates for these encounters so it is difficult to know whether the first encounter was selected."
   ]
  },
  {
   "cell_type": "markdown",
   "metadata": {},
   "source": [
    "# Specialty of an admitting physician"
   ]
  },
  {
   "cell_type": "markdown",
   "metadata": {},
   "source": [
    "Create dataframe:\n",
    "1. Find the total number of encounters meeting the criteria for each category\n",
    "2. Find the total number of encounters for each category for readmissions (<30)\n",
    "3. Calculate the percent total of each category\n",
    "4. Calculate the percent of encounters for each category that were readmissions "
   ]
  },
  {
   "cell_type": "markdown",
   "metadata": {},
   "source": [
    "Codes for each category:\n",
    "\n",
    "Internal medicine = InternalMedicine\n",
    "\n",
    "Cardiology = Cardiology/ Cardiology-Pediatric\n",
    "\n",
    "Surgery = Surgeon, Surgery-Cardiovascular, Surgery-Cardiovascular/Thoracic, Surgery-Colon&Rectal\n",
    "\n",
    "Family/general practice = Family/GeneralPractice\n",
    "\n",
    "Missing or unknown = missing\n",
    "\n",
    "Other"
   ]
  },
  {
   "cell_type": "code",
   "execution_count": 120,
   "metadata": {},
   "outputs": [],
   "source": [
    "def total_count(x):\n",
    "    \"\"\"\" Counts number of encounters for each category\"\"\"\n",
    "    if x[\"medical_specialty\"] == \"InternalMedicine\":\n",
    "        if x[\"readmitted\"] == \"<30\":\n",
    "            return \"re\"\n",
    "        return True\n",
    "    else:\n",
    "        return False\n",
    "     \n",
    "IM = final_df.apply(total_count, axis=1)\n",
    "IM_total = len(IM[IM == True].index)+len(IM[IM == \"re\"].index)\n",
    "IM_re = len(IM[IM == \"re\"].index)\n",
    "#print(no_test_total)\n",
    "#print(no_test_re)"
   ]
  },
  {
   "cell_type": "code",
   "execution_count": 121,
   "metadata": {},
   "outputs": [],
   "source": [
    "def total_count(x):\n",
    "    \"\"\"\" Counts number of encounters for each category\"\"\"\n",
    "    if x[\"medical_specialty\"] == \"Cardiology\" or x[\"medical_specialty\"] == \"Cardiology-Pediatric\":\n",
    "        if x[\"readmitted\"] == \"<30\":\n",
    "            return \"re\"\n",
    "        return True\n",
    "    else:\n",
    "        return False\n",
    "     \n",
    "car = final_df.apply(total_count, axis=1)\n",
    "car_total = len(car[car == True].index)+len(car[car == \"re\"].index)\n",
    "car_re = len(car[car == \"re\"].index)\n",
    "#print(car_total)\n",
    "#print(car_re)"
   ]
  },
  {
   "cell_type": "code",
   "execution_count": 122,
   "metadata": {},
   "outputs": [],
   "source": [
    "def total_count(x):\n",
    "    \"\"\"\" Counts number of encounters for each category\"\"\"\n",
    "    if x[\"medical_specialty\"] == \"Surgeon\" or x[\"medical_specialty\"].startswith(\"Surgery\"):\n",
    "        if x[\"readmitted\"] == \"<30\":\n",
    "            return \"re\"\n",
    "        return True\n",
    "    else:\n",
    "        return False\n",
    "     \n",
    "sur = final_df.apply(total_count, axis=1)\n",
    "sur_total = len(sur[sur == True].index)+len(sur[sur == \"re\"].index)\n",
    "sur_re = len(sur[sur == \"re\"].index)\n",
    "#print(sur_total)\n",
    "#print(sur_re)"
   ]
  },
  {
   "cell_type": "code",
   "execution_count": 123,
   "metadata": {},
   "outputs": [],
   "source": [
    "def total_count(x):\n",
    "    \"\"\"\" Counts number of encounters for each category\"\"\"\n",
    "    if x[\"medical_specialty\"] == \"Family/GeneralPractice\":\n",
    "        if x[\"readmitted\"] == \"<30\":\n",
    "            return \"re\"\n",
    "        return True\n",
    "    else:\n",
    "        return False\n",
    "     \n",
    "fam = final_df.apply(total_count, axis=1)\n",
    "fam_total = len(fam[fam == True].index)+len(fam[fam == \"re\"].index)\n",
    "fam_re = len(fam[fam == \"re\"].index)\n",
    "# print(fam_total)\n",
    "# print(fam_re)"
   ]
  },
  {
   "cell_type": "code",
   "execution_count": 124,
   "metadata": {},
   "outputs": [],
   "source": [
    "def total_count(x):\n",
    "    \"\"\"\" Counts number of encounters for each category\"\"\"\n",
    "    if x[\"medical_specialty\"] == \"missing\":\n",
    "        if x[\"readmitted\"] == \"<30\":\n",
    "            return \"re\"\n",
    "        return True\n",
    "    else:\n",
    "        return False\n",
    "     \n",
    "mis = final_df.apply(total_count, axis=1)\n",
    "mis_total = len(mis[mis == True].index)+len(mis[mis == \"re\"].index)\n",
    "mis_re = len(mis[mis == \"re\"].index)\n",
    "# print(mis_total)\n",
    "# print(mis_re)"
   ]
  },
  {
   "cell_type": "code",
   "execution_count": 125,
   "metadata": {},
   "outputs": [],
   "source": [
    "def total_count(x):\n",
    "    \"\"\"\" Counts number of encounters for each category\"\"\"\n",
    "    if x[\"medical_specialty\"] != \"Cardiology\" and x[\"medical_specialty\"] != \"Cardiology-Pediatric\" and x[\"medical_specialty\"] != \"Family/GeneralPractice\" and x[\"medical_specialty\"] != \"InternalMedicine\" and x[\"medical_specialty\"] != \"Surgeon\" and not x[\"medical_specialty\"].startswith(\"Surgery\") and x[\"medical_specialty\"] != \"missing\":\n",
    "        if x[\"readmitted\"] == \"<30\":\n",
    "            return \"re\"\n",
    "        return True\n",
    "    else:\n",
    "        return False\n",
    "     \n",
    "other = final_df.apply(total_count, axis=1)\n",
    "other_total = len(other[other == True].index)+len(other[other == \"re\"].index)\n",
    "other_re = len(other[other == \"re\"].index)\n",
    "# print(other_total)\n",
    "# print(other_re)"
   ]
  },
  {
   "cell_type": "code",
   "execution_count": 126,
   "metadata": {},
   "outputs": [],
   "source": [
    "#Create a list from all the values to add to the final dataframe\n",
    "specialty_total = [IM_total,car_total, sur_total, fam_total, mis_total, other_total]\n",
    "specialty_re = [IM_re,car_re, sur_re, fam_re, mis_re, other_re]"
   ]
  },
  {
   "cell_type": "markdown",
   "metadata": {},
   "source": [
    "### Percent population"
   ]
  },
  {
   "cell_type": "code",
   "execution_count": 127,
   "metadata": {},
   "outputs": [],
   "source": [
    "def population_percent(portion):\n",
    "    \"\"\"\"Divides encounters per category by total number of encounters\"\"\"\n",
    "    result = round((portion/total_encounters)*100,1)\n",
    "    return f'{result}%'\n",
    "\n",
    "IM_totalper = population_percent(IM_total)\n",
    "\n",
    "car_totalper = population_percent(car_total)\n",
    "\n",
    "sur_totalper = population_percent(sur_total)\n",
    "\n",
    "fam_totalper = population_percent(fam_total)\n",
    "\n",
    "mis_totalper = population_percent(mis_total)\n",
    "\n",
    "other_totalper = population_percent(other_total)\n",
    "\n",
    "#Create list to add results to final dataframe\n",
    "total_percent = [IM_totalper, car_totalper, sur_totalper, fam_totalper, mis_totalper, other_totalper]\n",
    "#print(total_percent)"
   ]
  },
  {
   "cell_type": "markdown",
   "metadata": {},
   "source": [
    "### Readmitted population percent"
   ]
  },
  {
   "cell_type": "code",
   "execution_count": 128,
   "metadata": {},
   "outputs": [],
   "source": [
    "def population_percent(portion, total):\n",
    "    \"\"\"\"Divides readmission encounters per category by total encounters per category\"\"\"\n",
    "    result = round((portion/total)*100,1)\n",
    "    return f'{result}%'\n",
    "\n",
    "IM_reper = population_percent(IM_re, IM_total)\n",
    "\n",
    "car_reper = population_percent(car_re, car_total)\n",
    "\n",
    "sur_reper = population_percent(sur_re, sur_total)\n",
    "\n",
    "fam_reper = population_percent(fam_re, fam_total)\n",
    "\n",
    "mis_reper = population_percent(mis_re, mis_total)\n",
    "\n",
    "other_reper = population_percent(other_re, other_total)\n",
    "\n",
    "#Create list to add results to final dataframe\n",
    "readmitted_percent = [IM_reper, car_reper, sur_reper, fam_reper, mis_reper, other_reper]\n",
    "#print(readmitted_percent)"
   ]
  },
  {
   "cell_type": "markdown",
   "metadata": {},
   "source": [
    "### Put results together to create dataframe\n",
    "\n",
    "1. Create 2 dictionaries, one for total encounters and another for readmissions\n",
    "2. Create list of rows with category names\n",
    "3. Create 2 dataframes with respective results and column names\n",
    "4. Merge dataframes on columns and indicate \"Readmitted\" columns\n",
    "5. Format dataframe (add title, align)"
   ]
  },
  {
   "cell_type": "code",
   "execution_count": 129,
   "metadata": {},
   "outputs": [
    {
     "data": {
      "text/html": [
       "<style  type=\"text/css\" >\n",
       "    #T_fb872346_285a_11eb_8af0_463500000031row0_col0 {\n",
       "            text-align:  center;\n",
       "        }    #T_fb872346_285a_11eb_8af0_463500000031row0_col1 {\n",
       "            text-align:  center;\n",
       "        }    #T_fb872346_285a_11eb_8af0_463500000031row0_col2 {\n",
       "            text-align:  center;\n",
       "        }    #T_fb872346_285a_11eb_8af0_463500000031row0_col3 {\n",
       "            text-align:  center;\n",
       "        }    #T_fb872346_285a_11eb_8af0_463500000031row1_col0 {\n",
       "            text-align:  center;\n",
       "        }    #T_fb872346_285a_11eb_8af0_463500000031row1_col1 {\n",
       "            text-align:  center;\n",
       "        }    #T_fb872346_285a_11eb_8af0_463500000031row1_col2 {\n",
       "            text-align:  center;\n",
       "        }    #T_fb872346_285a_11eb_8af0_463500000031row1_col3 {\n",
       "            text-align:  center;\n",
       "        }    #T_fb872346_285a_11eb_8af0_463500000031row2_col0 {\n",
       "            text-align:  center;\n",
       "        }    #T_fb872346_285a_11eb_8af0_463500000031row2_col1 {\n",
       "            text-align:  center;\n",
       "        }    #T_fb872346_285a_11eb_8af0_463500000031row2_col2 {\n",
       "            text-align:  center;\n",
       "        }    #T_fb872346_285a_11eb_8af0_463500000031row2_col3 {\n",
       "            text-align:  center;\n",
       "        }    #T_fb872346_285a_11eb_8af0_463500000031row3_col0 {\n",
       "            text-align:  center;\n",
       "        }    #T_fb872346_285a_11eb_8af0_463500000031row3_col1 {\n",
       "            text-align:  center;\n",
       "        }    #T_fb872346_285a_11eb_8af0_463500000031row3_col2 {\n",
       "            text-align:  center;\n",
       "        }    #T_fb872346_285a_11eb_8af0_463500000031row3_col3 {\n",
       "            text-align:  center;\n",
       "        }    #T_fb872346_285a_11eb_8af0_463500000031row4_col0 {\n",
       "            text-align:  center;\n",
       "        }    #T_fb872346_285a_11eb_8af0_463500000031row4_col1 {\n",
       "            text-align:  center;\n",
       "        }    #T_fb872346_285a_11eb_8af0_463500000031row4_col2 {\n",
       "            text-align:  center;\n",
       "        }    #T_fb872346_285a_11eb_8af0_463500000031row4_col3 {\n",
       "            text-align:  center;\n",
       "        }    #T_fb872346_285a_11eb_8af0_463500000031row5_col0 {\n",
       "            text-align:  center;\n",
       "        }    #T_fb872346_285a_11eb_8af0_463500000031row5_col1 {\n",
       "            text-align:  center;\n",
       "        }    #T_fb872346_285a_11eb_8af0_463500000031row5_col2 {\n",
       "            text-align:  center;\n",
       "        }    #T_fb872346_285a_11eb_8af0_463500000031row5_col3 {\n",
       "            text-align:  center;\n",
       "        }</style><table id=\"T_fb872346_285a_11eb_8af0_463500000031\" ><thead>    <tr>        <th class=\"blank level0\" ></th>        <th class=\"col_heading level0 col0\" colspan=2></th>        <th class=\"col_heading level0 col2\" colspan=2>Readmitted</th>    </tr>    <tr>        <th class=\"blank level1\" ></th>        <th class=\"col_heading level1 col0\" >Number of encounters</th>        <th class=\"col_heading level1 col1\" >% of the population</th>        <th class=\"col_heading level1 col2\" >Number of encounters</th>        <th class=\"col_heading level1 col3\" >% in group</th>    </tr>    <tr>        <th class=\"index_name level0\" >Specialty of the admitting physician</th>        <th class=\"blank\" ></th>        <th class=\"blank\" ></th>        <th class=\"blank\" ></th>        <th class=\"blank\" ></th>    </tr></thead><tbody>\n",
       "                <tr>\n",
       "                        <th id=\"T_fb872346_285a_11eb_8af0_463500000031level0_row0\" class=\"row_heading level0 row0\" >Internal Medicine</th>\n",
       "                        <td id=\"T_fb872346_285a_11eb_8af0_463500000031row0_col0\" class=\"data row0 col0\" >10641</td>\n",
       "                        <td id=\"T_fb872346_285a_11eb_8af0_463500000031row0_col1\" class=\"data row0 col1\" >15.2%</td>\n",
       "                        <td id=\"T_fb872346_285a_11eb_8af0_463500000031row0_col2\" class=\"data row0 col2\" >1039</td>\n",
       "                        <td id=\"T_fb872346_285a_11eb_8af0_463500000031row0_col3\" class=\"data row0 col3\" >9.8%</td>\n",
       "            </tr>\n",
       "            <tr>\n",
       "                        <th id=\"T_fb872346_285a_11eb_8af0_463500000031level0_row1\" class=\"row_heading level0 row1\" >Cardiology</th>\n",
       "                        <td id=\"T_fb872346_285a_11eb_8af0_463500000031row1_col0\" class=\"data row1 col0\" >4214</td>\n",
       "                        <td id=\"T_fb872346_285a_11eb_8af0_463500000031row1_col1\" class=\"data row1 col1\" >6.0%</td>\n",
       "                        <td id=\"T_fb872346_285a_11eb_8af0_463500000031row1_col2\" class=\"data row1 col2\" >303</td>\n",
       "                        <td id=\"T_fb872346_285a_11eb_8af0_463500000031row1_col3\" class=\"data row1 col3\" >7.2%</td>\n",
       "            </tr>\n",
       "            <tr>\n",
       "                        <th id=\"T_fb872346_285a_11eb_8af0_463500000031level0_row2\" class=\"row_heading level0 row2\" >Surgery</th>\n",
       "                        <td id=\"T_fb872346_285a_11eb_8af0_463500000031row2_col0\" class=\"data row2 col0\" >3725</td>\n",
       "                        <td id=\"T_fb872346_285a_11eb_8af0_463500000031row2_col1\" class=\"data row2 col1\" >5.3%</td>\n",
       "                        <td id=\"T_fb872346_285a_11eb_8af0_463500000031row2_col2\" class=\"data row2 col2\" >297</td>\n",
       "                        <td id=\"T_fb872346_285a_11eb_8af0_463500000031row2_col3\" class=\"data row2 col3\" >8.0%</td>\n",
       "            </tr>\n",
       "            <tr>\n",
       "                        <th id=\"T_fb872346_285a_11eb_8af0_463500000031level0_row3\" class=\"row_heading level0 row3\" >Family/general practice</th>\n",
       "                        <td id=\"T_fb872346_285a_11eb_8af0_463500000031row3_col0\" class=\"data row3 col0\" >4978</td>\n",
       "                        <td id=\"T_fb872346_285a_11eb_8af0_463500000031row3_col1\" class=\"data row3 col1\" >7.1%</td>\n",
       "                        <td id=\"T_fb872346_285a_11eb_8af0_463500000031row3_col2\" class=\"data row3 col2\" >485</td>\n",
       "                        <td id=\"T_fb872346_285a_11eb_8af0_463500000031row3_col3\" class=\"data row3 col3\" >9.7%</td>\n",
       "            </tr>\n",
       "            <tr>\n",
       "                        <th id=\"T_fb872346_285a_11eb_8af0_463500000031level0_row4\" class=\"row_heading level0 row4\" >Missing or unknown</th>\n",
       "                        <td id=\"T_fb872346_285a_11eb_8af0_463500000031row4_col0\" class=\"data row4 col0\" >33639</td>\n",
       "                        <td id=\"T_fb872346_285a_11eb_8af0_463500000031row4_col1\" class=\"data row4 col1\" >48.1%</td>\n",
       "                        <td id=\"T_fb872346_285a_11eb_8af0_463500000031row4_col2\" class=\"data row4 col2\" >3104</td>\n",
       "                        <td id=\"T_fb872346_285a_11eb_8af0_463500000031row4_col3\" class=\"data row4 col3\" >9.2%</td>\n",
       "            </tr>\n",
       "            <tr>\n",
       "                        <th id=\"T_fb872346_285a_11eb_8af0_463500000031level0_row5\" class=\"row_heading level0 row5\" >Other</th>\n",
       "                        <td id=\"T_fb872346_285a_11eb_8af0_463500000031row5_col0\" class=\"data row5 col0\" >12776</td>\n",
       "                        <td id=\"T_fb872346_285a_11eb_8af0_463500000031row5_col1\" class=\"data row5 col1\" >18.3%</td>\n",
       "                        <td id=\"T_fb872346_285a_11eb_8af0_463500000031row5_col2\" class=\"data row5 col2\" >1049</td>\n",
       "                        <td id=\"T_fb872346_285a_11eb_8af0_463500000031row5_col3\" class=\"data row5 col3\" >8.2%</td>\n",
       "            </tr>\n",
       "    </tbody></table>"
      ],
      "text/plain": [
       "<pandas.io.formats.style.Styler at 0xe118988>"
      ]
     },
     "execution_count": 129,
     "metadata": {},
     "output_type": "execute_result"
    }
   ],
   "source": [
    "docspecialty = {\"Number of encounters\" : specialty_total, \"% of the population\": total_percent}\n",
    "docspecialty_re = {\"Number of encounters\": specialty_re, \"% in group\" : readmitted_percent}\n",
    "rows= [\"Internal Medicine\", \"Cardiology\", \"Surgery\", \"Family/general practice\", \"Missing or unknown\", \"Other\"] \n",
    "total = pd.DataFrame(docspecialty, columns = [\"Number of encounters\", \"% of the population\"], index = rows)\n",
    "re = pd.DataFrame(docspecialty_re,columns = [\"Number of encounters\", \"% in group\" ], index = rows)\n",
    "\n",
    "docspecialty_df = pd.concat([total,re], axis=1, keys = ['','Readmitted'])\n",
    "index = docspecialty_df.index\n",
    "index.name = \"Specialty of the admitting physician\"\n",
    "docspecialty_df.style.set_properties(**{'text-align': 'center'})"
   ]
  },
  {
   "cell_type": "markdown",
   "metadata": {},
   "source": [
    "Differences in results may have been due to the sorting of the encounters. We were not provided dates for these encounters so it is difficult to know whether the first encounter was selected."
   ]
  },
  {
   "cell_type": "markdown",
   "metadata": {},
   "source": [
    "# Primary diagnosis"
   ]
  },
  {
   "cell_type": "markdown",
   "metadata": {},
   "source": [
    "Create dataframe:\n",
    "1. Convert non-numerical values\n",
    "2. Find the total number of encounters meeting the criteria for each category\n",
    "2. Find the total number of encounters for each category for readmissions (<30)\n",
    "3. Calculate the percent total of each category\n",
    "4. Calculate the percent of encounters for each category that were readmissions "
   ]
  },
  {
   "cell_type": "markdown",
   "metadata": {},
   "source": [
    "Codes for each catergory:\n",
    "\n",
    "Circulary system = 390-459, 785\n",
    " \n",
    "Diabetes = 250.xx\n",
    " \n",
    "Respiratory system = 460-519, 786\n",
    " \n",
    "Digestive system = 520-579, 787\n",
    " \n",
    "Injury and poisoning = 800-999\n",
    " \n",
    "Musculoskeletal and connective tissue = 710-739\n",
    " \n",
    "Genitourinary system = 580-629, 788\n",
    " \n",
    "Neoplasms = 140-239"
   ]
  },
  {
   "cell_type": "code",
   "execution_count": 130,
   "metadata": {},
   "outputs": [],
   "source": [
    "def total_count(x):\n",
    "    \"\"\"\" Counts number of encounters for each category\"\"\"\n",
    "    if x[\"diag_1\"].startswith('250'):\n",
    "        if x[\"readmitted\"] == \"<30\":\n",
    "            return \"re\"\n",
    "        return True\n",
    "    else:\n",
    "        return False\n",
    "\n",
    "diabetes = final_df.apply(total_count, axis=1)\n",
    "diabetes_total = len(diabetes[diabetes == True].index)+len(diabetes[diabetes == \"re\"].index)\n",
    "diabetes_re = len(diabetes[diabetes == \"re\"].index)\n",
    "# print(diabetes_total)\n",
    "# print(diabetes_re)"
   ]
  },
  {
   "cell_type": "code",
   "execution_count": 131,
   "metadata": {},
   "outputs": [],
   "source": [
    "#Replace non-numerical values to convert values to integers for range evaluation\n",
    "final_df[\"diag_1\"] = final_df.diag_1.str.replace('V','999').str.replace('E','999').str.replace('?','999')\n",
    "\n",
    "def total_count(x):\n",
    "    \"\"\"\" Counts number of encounters for each category\"\"\"\n",
    "    # Convert values in to numbers to evaluate ranges \n",
    "    x['diag_1'] = pd.to_numeric(x['diag_1'], downcast='integer')\n",
    "    if x[\"diag_1\"] in range(390,459) or x[\"diag_1\"] == 785:\n",
    "        if x[\"readmitted\"] == \"<30\":\n",
    "            return \"re\"\n",
    "        return True\n",
    "    else:\n",
    "        return False\n",
    "\n",
    "circulatory = final_df.apply(total_count, axis=1)\n",
    "circulatory_total = len(circulatory[circulatory == True].index)+len(circulatory[circulatory == \"re\"].index)\n",
    "circulatory_re = len(circulatory[circulatory == \"re\"].index)\n",
    "# print(circulatory_total)\n",
    "# print(circulatory_re)"
   ]
  },
  {
   "cell_type": "code",
   "execution_count": 132,
   "metadata": {},
   "outputs": [],
   "source": [
    "def total_count(x):\n",
    "    \"\"\"\" Counts number of encounters for each category\"\"\"\n",
    "    # Convert values in to numbers to evaluate ranges\n",
    "    x['diag_1'] = pd.to_numeric(x['diag_1'], downcast='integer')\n",
    "    if x[\"diag_1\"] in range(460,519) or x[\"diag_1\"] == 786:\n",
    "        if x[\"readmitted\"] == \"<30\":\n",
    "            return \"re\"\n",
    "        return True\n",
    "    else:\n",
    "        return False\n",
    "\n",
    "respiratory = final_df.apply(total_count, axis=1)\n",
    "respiratory_total = len(respiratory[respiratory == True].index)+len(respiratory[respiratory == \"re\"].index)\n",
    "respiratory_re = len(respiratory[respiratory == \"re\"].index)\n",
    "# print(respiratory_total)\n",
    "# print(respiratory_re)"
   ]
  },
  {
   "cell_type": "code",
   "execution_count": 133,
   "metadata": {},
   "outputs": [],
   "source": [
    "def total_count(x):\n",
    "    \"\"\"\" Counts number of encounters for each category\"\"\"\n",
    "    # Convert values in to numbers to evaluate ranges\n",
    "    x['diag_1'] = pd.to_numeric(x['diag_1'], downcast='integer')\n",
    "    if x[\"diag_1\"] in range(520,579) or x[\"diag_1\"] == 787:\n",
    "        if x[\"readmitted\"] == \"<30\":\n",
    "            return \"re\"\n",
    "        return True\n",
    "    else:\n",
    "        return False\n",
    "\n",
    "digestive = final_df.apply(total_count, axis=1)\n",
    "digestive_total = len(digestive[digestive == True].index)+len(digestive[digestive == \"re\"].index)\n",
    "digestive_re = len(digestive[digestive == \"re\"].index)\n",
    "# print(digestive_total)\n",
    "# print(digestive_re)"
   ]
  },
  {
   "cell_type": "code",
   "execution_count": 134,
   "metadata": {},
   "outputs": [],
   "source": [
    "def total_count(x):\n",
    "    \"\"\"\" Counts number of encounters for each category\"\"\"\n",
    "    # Convert values in to numbers to evaluate ranges\n",
    "    x['diag_1'] = pd.to_numeric(x['diag_1'], downcast='integer')\n",
    "    if x[\"diag_1\"] in range(800,999):\n",
    "        if x[\"readmitted\"] == \"<30\":\n",
    "            return \"re\"\n",
    "        return True\n",
    "    else:\n",
    "        return False\n",
    "\n",
    "ip = final_df.apply(total_count, axis=1)\n",
    "ip_total = len(ip[ip == True].index)+len(ip[ip == \"re\"].index)\n",
    "ip_re = len(ip[ip == \"re\"].index)\n",
    "# print(ip_total)\n",
    "# print(ip_re)"
   ]
  },
  {
   "cell_type": "code",
   "execution_count": 135,
   "metadata": {},
   "outputs": [],
   "source": [
    "def total_count(x):\n",
    "    \"\"\"\" Counts number of encounters for each category\"\"\"\n",
    "    # Convert values in to numbers to evaluate ranges\n",
    "    x['diag_1'] = pd.to_numeric(x['diag_1'], downcast='integer')\n",
    "    if x[\"diag_1\"] in range(710,739):\n",
    "        if x[\"readmitted\"] == \"<30\":\n",
    "            return \"re\"\n",
    "        return True\n",
    "    else:\n",
    "        return False\n",
    "\n",
    "muscle = final_df.apply(total_count, axis=1)\n",
    "muscle_total = len(muscle[muscle == True].index)+len(muscle[muscle == \"re\"].index)\n",
    "muscle_re = len(muscle[muscle == \"re\"].index)\n",
    "# print(muscle_total)\n",
    "# print(muscle_re)"
   ]
  },
  {
   "cell_type": "code",
   "execution_count": 136,
   "metadata": {},
   "outputs": [],
   "source": [
    "def total_count(x):\n",
    "    \"\"\"\" Counts number of encounters for each category\"\"\"\n",
    "    # Convert values in to numbers to evaluate ranges\n",
    "    x['diag_1'] = pd.to_numeric(x['diag_1'], downcast='integer')\n",
    "    if x[\"diag_1\"] in range(580,629) or x[\"diag_1\"] == 788:\n",
    "        if x[\"readmitted\"] == \"<30\":\n",
    "            return \"re\"\n",
    "        return True\n",
    "    else:\n",
    "        return False\n",
    "\n",
    "geni = final_df.apply(total_count, axis=1)\n",
    "geni_total = len(geni[geni == True].index)+len(geni[geni == \"re\"].index)\n",
    "geni_re = len(geni[geni == \"re\"].index)\n",
    "# print(geni_total)\n",
    "# print(geni_re)"
   ]
  },
  {
   "cell_type": "code",
   "execution_count": 137,
   "metadata": {},
   "outputs": [],
   "source": [
    "def total_count(x):\n",
    "    \"\"\"\" Counts number of encounters for each category\"\"\"\n",
    "    # Convert values in to numbers to evaluate ranges\n",
    "    x['diag_1'] = pd.to_numeric(x['diag_1'], downcast='integer')\n",
    "    if x[\"diag_1\"] in range(140,239):\n",
    "        if x[\"readmitted\"] == \"<30\":\n",
    "            return \"re\"\n",
    "        return True\n",
    "    else:\n",
    "        return False\n",
    "\n",
    "neoplasm = final_df.apply(total_count, axis=1)\n",
    "neoplasm_total = len(neoplasm[neoplasm == True].index)+len(neoplasm[neoplasm == \"re\"].index)\n",
    "neoplasm_re = len(neoplasm[neoplasm == \"re\"].index)\n",
    "# print(neoplasm_total)\n",
    "# print(neoplasm_re)"
   ]
  },
  {
   "cell_type": "code",
   "execution_count": 138,
   "metadata": {},
   "outputs": [],
   "source": [
    "#Calculate percent of other by subtracting sum of all categories from total encounters\n",
    "\n",
    "total_re = len(final_df[(final_df[\"readmitted\"] == \"<30\")])\n",
    "other_total = total_encounters - (circulatory_total + diabetes_total + respiratory_total + digestive_total \n",
    "                                  + ip_total +  muscle_total + geni_total + neoplasm_total)\n",
    "other_re = total_re - (circulatory_re + diabetes_re + respiratory_re + digestive_re + ip_re +  muscle_re \n",
    "                       + geni_re + neoplasm_re)\n",
    "# print(total_re)\n",
    "# print(other_total)\n",
    "# print(other_re)"
   ]
  },
  {
   "cell_type": "code",
   "execution_count": 139,
   "metadata": {},
   "outputs": [],
   "source": [
    "#Create a list from all the values to add to the final dataframe\n",
    "diag_total = [circulatory_total, diabetes_total, respiratory_total, digestive_total, \n",
    "                                  ip_total, muscle_total, geni_total, neoplasm_total, other_total]\n",
    "diag_re = [circulatory_re, diabetes_re, respiratory_re, digestive_re, ip_re, muscle_re,\n",
    "                       geni_re, neoplasm_re, other_re]"
   ]
  },
  {
   "cell_type": "markdown",
   "metadata": {},
   "source": [
    "### Percent population"
   ]
  },
  {
   "cell_type": "code",
   "execution_count": 140,
   "metadata": {},
   "outputs": [],
   "source": [
    "def population_percent(portion):\n",
    "    \"\"\"\"Divides encounters per category by total number of encounters\"\"\"\n",
    "    result = round((portion/total_encounters)*100,1)\n",
    "    return f'{result}%'\n",
    "\n",
    "circulatory_totalper = population_percent(circulatory_total)\n",
    "\n",
    "diabetes_totalper = population_percent(diabetes_total)\n",
    "\n",
    "respiratory_totalper = population_percent(respiratory_total)\n",
    "\n",
    "digestive_totalper = population_percent(digestive_total)\n",
    "\n",
    "ip_totalper = population_percent(ip_total)\n",
    "\n",
    "muscle_totalper = population_percent(muscle_total)\n",
    "\n",
    "geni_totalper = population_percent(geni_total)\n",
    "\n",
    "neoplasm_totalper = population_percent(neoplasm_total)\n",
    "\n",
    "other_totalper = population_percent(other_total)\n",
    "\n",
    "#Create list to add results to final dataframe\n",
    "total_percent = [circulatory_totalper, diabetes_totalper, respiratory_totalper, digestive_totalper, \n",
    "                                  ip_totalper, muscle_totalper, geni_totalper, neoplasm_totalper, other_totalper]\n",
    "#print(total_percent)"
   ]
  },
  {
   "cell_type": "markdown",
   "metadata": {},
   "source": [
    "### Readmitted population percent"
   ]
  },
  {
   "cell_type": "code",
   "execution_count": 141,
   "metadata": {},
   "outputs": [],
   "source": [
    "def population_percent(portion, total):\n",
    "    \"\"\"\"Divides readmission encounters per category by total encounters per category\"\"\"\n",
    "    result = round((portion/total)*100,1)\n",
    "    return f'{result}%'\n",
    "\n",
    "circulatory_reper = population_percent(circulatory_re, circulatory_total)\n",
    "\n",
    "diabetes_reper = population_percent(diabetes_re, diabetes_total)\n",
    "\n",
    "respiratory_reper = population_percent(respiratory_re, respiratory_total)\n",
    "\n",
    "digestive_reper = population_percent(digestive_re, digestive_total)\n",
    "\n",
    "ip_reper = population_percent(ip_re, ip_total)\n",
    "\n",
    "muscle_reper = population_percent(muscle_re, muscle_total)\n",
    "\n",
    "geni_reper = population_percent(geni_re, geni_total)\n",
    "\n",
    "neoplasm_reper = population_percent(neoplasm_re, neoplasm_total)\n",
    "\n",
    "other_reper = population_percent(other_re, other_total)\n",
    "\n",
    "#Create list to add results to final dataframe\n",
    "readmitted_percent = [circulatory_reper, diabetes_reper, respiratory_reper, digestive_reper, \n",
    "                                  ip_reper, muscle_reper, geni_reper, neoplasm_reper, other_reper]\n",
    "#print(readmitted_percent)"
   ]
  },
  {
   "cell_type": "markdown",
   "metadata": {},
   "source": [
    "### Put results together to create dataframe\n",
    "\n",
    "1. Create 2 dictionaries, one for total encounters and another for readmissions\n",
    "2. Create list of rows with category names\n",
    "3. Create 2 dataframes with respective results and column names\n",
    "4. Merge dataframes on columns and indicate \"Readmitted\" columns\n",
    "5. Format dataframe (add title, align)"
   ]
  },
  {
   "cell_type": "code",
   "execution_count": 142,
   "metadata": {},
   "outputs": [
    {
     "data": {
      "text/html": [
       "<style  type=\"text/css\" >\n",
       "    #T_647b5280_285b_11eb_ba1e_463500000031row0_col0 {\n",
       "            text-align:  center;\n",
       "        }    #T_647b5280_285b_11eb_ba1e_463500000031row0_col1 {\n",
       "            text-align:  center;\n",
       "        }    #T_647b5280_285b_11eb_ba1e_463500000031row0_col2 {\n",
       "            text-align:  center;\n",
       "        }    #T_647b5280_285b_11eb_ba1e_463500000031row0_col3 {\n",
       "            text-align:  center;\n",
       "        }    #T_647b5280_285b_11eb_ba1e_463500000031row1_col0 {\n",
       "            text-align:  center;\n",
       "        }    #T_647b5280_285b_11eb_ba1e_463500000031row1_col1 {\n",
       "            text-align:  center;\n",
       "        }    #T_647b5280_285b_11eb_ba1e_463500000031row1_col2 {\n",
       "            text-align:  center;\n",
       "        }    #T_647b5280_285b_11eb_ba1e_463500000031row1_col3 {\n",
       "            text-align:  center;\n",
       "        }    #T_647b5280_285b_11eb_ba1e_463500000031row2_col0 {\n",
       "            text-align:  center;\n",
       "        }    #T_647b5280_285b_11eb_ba1e_463500000031row2_col1 {\n",
       "            text-align:  center;\n",
       "        }    #T_647b5280_285b_11eb_ba1e_463500000031row2_col2 {\n",
       "            text-align:  center;\n",
       "        }    #T_647b5280_285b_11eb_ba1e_463500000031row2_col3 {\n",
       "            text-align:  center;\n",
       "        }    #T_647b5280_285b_11eb_ba1e_463500000031row3_col0 {\n",
       "            text-align:  center;\n",
       "        }    #T_647b5280_285b_11eb_ba1e_463500000031row3_col1 {\n",
       "            text-align:  center;\n",
       "        }    #T_647b5280_285b_11eb_ba1e_463500000031row3_col2 {\n",
       "            text-align:  center;\n",
       "        }    #T_647b5280_285b_11eb_ba1e_463500000031row3_col3 {\n",
       "            text-align:  center;\n",
       "        }    #T_647b5280_285b_11eb_ba1e_463500000031row4_col0 {\n",
       "            text-align:  center;\n",
       "        }    #T_647b5280_285b_11eb_ba1e_463500000031row4_col1 {\n",
       "            text-align:  center;\n",
       "        }    #T_647b5280_285b_11eb_ba1e_463500000031row4_col2 {\n",
       "            text-align:  center;\n",
       "        }    #T_647b5280_285b_11eb_ba1e_463500000031row4_col3 {\n",
       "            text-align:  center;\n",
       "        }    #T_647b5280_285b_11eb_ba1e_463500000031row5_col0 {\n",
       "            text-align:  center;\n",
       "        }    #T_647b5280_285b_11eb_ba1e_463500000031row5_col1 {\n",
       "            text-align:  center;\n",
       "        }    #T_647b5280_285b_11eb_ba1e_463500000031row5_col2 {\n",
       "            text-align:  center;\n",
       "        }    #T_647b5280_285b_11eb_ba1e_463500000031row5_col3 {\n",
       "            text-align:  center;\n",
       "        }    #T_647b5280_285b_11eb_ba1e_463500000031row6_col0 {\n",
       "            text-align:  center;\n",
       "        }    #T_647b5280_285b_11eb_ba1e_463500000031row6_col1 {\n",
       "            text-align:  center;\n",
       "        }    #T_647b5280_285b_11eb_ba1e_463500000031row6_col2 {\n",
       "            text-align:  center;\n",
       "        }    #T_647b5280_285b_11eb_ba1e_463500000031row6_col3 {\n",
       "            text-align:  center;\n",
       "        }    #T_647b5280_285b_11eb_ba1e_463500000031row7_col0 {\n",
       "            text-align:  center;\n",
       "        }    #T_647b5280_285b_11eb_ba1e_463500000031row7_col1 {\n",
       "            text-align:  center;\n",
       "        }    #T_647b5280_285b_11eb_ba1e_463500000031row7_col2 {\n",
       "            text-align:  center;\n",
       "        }    #T_647b5280_285b_11eb_ba1e_463500000031row7_col3 {\n",
       "            text-align:  center;\n",
       "        }    #T_647b5280_285b_11eb_ba1e_463500000031row8_col0 {\n",
       "            text-align:  center;\n",
       "        }    #T_647b5280_285b_11eb_ba1e_463500000031row8_col1 {\n",
       "            text-align:  center;\n",
       "        }    #T_647b5280_285b_11eb_ba1e_463500000031row8_col2 {\n",
       "            text-align:  center;\n",
       "        }    #T_647b5280_285b_11eb_ba1e_463500000031row8_col3 {\n",
       "            text-align:  center;\n",
       "        }</style><table id=\"T_647b5280_285b_11eb_ba1e_463500000031\" ><thead>    <tr>        <th class=\"blank level0\" ></th>        <th class=\"col_heading level0 col0\" colspan=2></th>        <th class=\"col_heading level0 col2\" colspan=2>Readmitted</th>    </tr>    <tr>        <th class=\"blank level1\" ></th>        <th class=\"col_heading level1 col0\" >Number of encounters</th>        <th class=\"col_heading level1 col1\" >% of the population</th>        <th class=\"col_heading level1 col2\" >Number of encounters</th>        <th class=\"col_heading level1 col3\" >% in group</th>    </tr>    <tr>        <th class=\"index_name level0\" >Primary diagnosis</th>        <th class=\"blank\" ></th>        <th class=\"blank\" ></th>        <th class=\"blank\" ></th>        <th class=\"blank\" ></th>    </tr></thead><tbody>\n",
       "                <tr>\n",
       "                        <th id=\"T_647b5280_285b_11eb_ba1e_463500000031level0_row0\" class=\"row_heading level0 row0\" >Adisease of the circulatory system (icd9: 390-459)</th>\n",
       "                        <td id=\"T_647b5280_285b_11eb_ba1e_463500000031row0_col0\" class=\"data row0 col0\" >21323</td>\n",
       "                        <td id=\"T_647b5280_285b_11eb_ba1e_463500000031row0_col1\" class=\"data row0 col1\" >30.5%</td>\n",
       "                        <td id=\"T_647b5280_285b_11eb_ba1e_463500000031row0_col2\" class=\"data row0 col2\" >2062</td>\n",
       "                        <td id=\"T_647b5280_285b_11eb_ba1e_463500000031row0_col3\" class=\"data row0 col3\" >9.7%</td>\n",
       "            </tr>\n",
       "            <tr>\n",
       "                        <th id=\"T_647b5280_285b_11eb_ba1e_463500000031level0_row1\" class=\"row_heading level0 row1\" >Diabetes(icd9:250.xx)</th>\n",
       "                        <td id=\"T_647b5280_285b_11eb_ba1e_463500000031row1_col0\" class=\"data row1 col0\" >5748</td>\n",
       "                        <td id=\"T_647b5280_285b_11eb_ba1e_463500000031row1_col1\" class=\"data row1 col1\" >8.2%</td>\n",
       "                        <td id=\"T_647b5280_285b_11eb_ba1e_463500000031row1_col2\" class=\"data row1 col2\" >524</td>\n",
       "                        <td id=\"T_647b5280_285b_11eb_ba1e_463500000031row1_col3\" class=\"data row1 col3\" >9.1%</td>\n",
       "            </tr>\n",
       "            <tr>\n",
       "                        <th id=\"T_647b5280_285b_11eb_ba1e_463500000031level0_row2\" class=\"row_heading level0 row2\" >A disease of the respiratory system (icd9: 460-519, 786)</th>\n",
       "                        <td id=\"T_647b5280_285b_11eb_ba1e_463500000031row2_col0\" class=\"data row2 col0\" >9457</td>\n",
       "                        <td id=\"T_647b5280_285b_11eb_ba1e_463500000031row2_col1\" class=\"data row2 col1\" >13.5%</td>\n",
       "                        <td id=\"T_647b5280_285b_11eb_ba1e_463500000031row2_col2\" class=\"data row2 col2\" >689</td>\n",
       "                        <td id=\"T_647b5280_285b_11eb_ba1e_463500000031row2_col3\" class=\"data row2 col3\" >7.3%</td>\n",
       "            </tr>\n",
       "            <tr>\n",
       "                        <th id=\"T_647b5280_285b_11eb_ba1e_463500000031level0_row3\" class=\"row_heading level0 row3\" >Disease of the digestive system (icd9: 520-579,787)</th>\n",
       "                        <td id=\"T_647b5280_285b_11eb_ba1e_463500000031row3_col0\" class=\"data row3 col0\" >6481</td>\n",
       "                        <td id=\"T_647b5280_285b_11eb_ba1e_463500000031row3_col1\" class=\"data row3 col1\" >9.3%</td>\n",
       "                        <td id=\"T_647b5280_285b_11eb_ba1e_463500000031row3_col2\" class=\"data row3 col2\" >520</td>\n",
       "                        <td id=\"T_647b5280_285b_11eb_ba1e_463500000031row3_col3\" class=\"data row3 col3\" >8.0%</td>\n",
       "            </tr>\n",
       "            <tr>\n",
       "                        <th id=\"T_647b5280_285b_11eb_ba1e_463500000031level0_row4\" class=\"row_heading level0 row4\" >Injury and poisonin (icd9: 800-999)</th>\n",
       "                        <td id=\"T_647b5280_285b_11eb_ba1e_463500000031row4_col0\" class=\"data row4 col0\" >4677</td>\n",
       "                        <td id=\"T_647b5280_285b_11eb_ba1e_463500000031row4_col1\" class=\"data row4 col1\" >6.7%</td>\n",
       "                        <td id=\"T_647b5280_285b_11eb_ba1e_463500000031row4_col2\" class=\"data row4 col2\" >506</td>\n",
       "                        <td id=\"T_647b5280_285b_11eb_ba1e_463500000031row4_col3\" class=\"data row4 col3\" >10.8%</td>\n",
       "            </tr>\n",
       "            <tr>\n",
       "                        <th id=\"T_647b5280_285b_11eb_ba1e_463500000031level0_row5\" class=\"row_heading level0 row5\" >Diseases of the misculoskeletal system and connective tissue (icd9: 710-739)</th>\n",
       "                        <td id=\"T_647b5280_285b_11eb_ba1e_463500000031row5_col0\" class=\"data row5 col0\" >4064</td>\n",
       "                        <td id=\"T_647b5280_285b_11eb_ba1e_463500000031row5_col1\" class=\"data row5 col1\" >5.8%</td>\n",
       "                        <td id=\"T_647b5280_285b_11eb_ba1e_463500000031row5_col2\" class=\"data row5 col2\" >341</td>\n",
       "                        <td id=\"T_647b5280_285b_11eb_ba1e_463500000031row5_col3\" class=\"data row5 col3\" >8.4%</td>\n",
       "            </tr>\n",
       "            <tr>\n",
       "                        <th id=\"T_647b5280_285b_11eb_ba1e_463500000031level0_row6\" class=\"row_heading level0 row6\" >Diseases of the genitourinary system (icd9: 580-629, 788)</th>\n",
       "                        <td id=\"T_647b5280_285b_11eb_ba1e_463500000031row6_col0\" class=\"data row6 col0\" >3440</td>\n",
       "                        <td id=\"T_647b5280_285b_11eb_ba1e_463500000031row6_col1\" class=\"data row6 col1\" >4.9%</td>\n",
       "                        <td id=\"T_647b5280_285b_11eb_ba1e_463500000031row6_col2\" class=\"data row6 col2\" >309</td>\n",
       "                        <td id=\"T_647b5280_285b_11eb_ba1e_463500000031row6_col3\" class=\"data row6 col3\" >9.0%</td>\n",
       "            </tr>\n",
       "            <tr>\n",
       "                        <th id=\"T_647b5280_285b_11eb_ba1e_463500000031level0_row7\" class=\"row_heading level0 row7\" >Neoplasms (icd9: 140-239)</th>\n",
       "                        <td id=\"T_647b5280_285b_11eb_ba1e_463500000031row7_col0\" class=\"data row7 col0\" >2515</td>\n",
       "                        <td id=\"T_647b5280_285b_11eb_ba1e_463500000031row7_col1\" class=\"data row7 col1\" >3.6%</td>\n",
       "                        <td id=\"T_647b5280_285b_11eb_ba1e_463500000031row7_col2\" class=\"data row7 col2\" >226</td>\n",
       "                        <td id=\"T_647b5280_285b_11eb_ba1e_463500000031row7_col3\" class=\"data row7 col3\" >9.0%</td>\n",
       "            </tr>\n",
       "            <tr>\n",
       "                        <th id=\"T_647b5280_285b_11eb_ba1e_463500000031level0_row8\" class=\"row_heading level0 row8\" >Other</th>\n",
       "                        <td id=\"T_647b5280_285b_11eb_ba1e_463500000031row8_col0\" class=\"data row8 col0\" >12268</td>\n",
       "                        <td id=\"T_647b5280_285b_11eb_ba1e_463500000031row8_col1\" class=\"data row8 col1\" >17.5%</td>\n",
       "                        <td id=\"T_647b5280_285b_11eb_ba1e_463500000031row8_col2\" class=\"data row8 col2\" >1100</td>\n",
       "                        <td id=\"T_647b5280_285b_11eb_ba1e_463500000031row8_col3\" class=\"data row8 col3\" >9.0%</td>\n",
       "            </tr>\n",
       "    </tbody></table>"
      ],
      "text/plain": [
       "<pandas.io.formats.style.Styler at 0xe118d30>"
      ]
     },
     "execution_count": 142,
     "metadata": {},
     "output_type": "execute_result"
    }
   ],
   "source": [
    "pridiag_total = {\"Number of encounters\" : diag_total, \"% of the population\": total_percent}\n",
    "pridiag_re = {\"Number of encounters\": diag_re, \"% in group\" : readmitted_percent}\n",
    "rows= [\"Adisease of the circulatory system (icd9: 390-459)\", \"Diabetes(icd9:250.xx)\", \"A disease of the respiratory system (icd9: 460-519, 786)\", \"Disease of the digestive system (icd9: 520-579,787)\", \"Injury and poisonin (icd9: 800-999)\", \"Diseases of the misculoskeletal system and connective tissue (icd9: 710-739)\", \"Diseases of the genitourinary system (icd9: 580-629, 788)\", \"Neoplasms (icd9: 140-239)\", \"Other\"] \n",
    "total = pd.DataFrame(pridiag_total, columns = [\"Number of encounters\", \"% of the population\"], index = rows)\n",
    "re = pd.DataFrame(pridiag_re,columns = [\"Number of encounters\", \"% in group\" ], index = rows)\n",
    "\n",
    "pridiag_df = pd.concat([total,re], axis=1, keys = ['','Readmitted'])\n",
    "index = pridiag_df.index\n",
    "index.name = \"Primary diagnosis\"\n",
    "pridiag_df.style.set_properties(**{'text-align': 'center'})"
   ]
  },
  {
   "cell_type": "markdown",
   "metadata": {},
   "source": [
    "Differences in results may have been due to the sorting of the encounters. We were not provided dates for these encounters so it is difficult to know whether the first encounter was selected."
   ]
  }
 ],
 "metadata": {
  "kernelspec": {
   "display_name": "Python 3",
   "language": "python",
   "name": "python3"
  },
  "language_info": {
   "codemirror_mode": {
    "name": "ipython",
    "version": 3
   },
   "file_extension": ".py",
   "mimetype": "text/x-python",
   "name": "python",
   "nbconvert_exporter": "python",
   "pygments_lexer": "ipython3",
   "version": "3.8.3"
  }
 },
 "nbformat": 4,
 "nbformat_minor": 4
}
